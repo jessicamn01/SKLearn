{
  "cells": [
    {
      "cell_type": "code",
      "execution_count": 1,
      "id": "505e88b1",
      "metadata": {
        "colab": {
          "base_uri": "https://localhost:8080/"
        },
        "id": "505e88b1",
        "outputId": "38dd90ef-6533-4668-dbbd-5995f7aa54fd"
      },
      "outputs": [
        {
          "output_type": "execute_result",
          "data": {
            "text/plain": [
              "['Linux has been around since the mid-1990s.',\n",
              " 'Linux distributions include the Linux kernel.',\n",
              " 'Linux is one of the most prominent open-source software.']"
            ]
          },
          "metadata": {},
          "execution_count": 1
        }
      ],
      "source": [
        "#Bag of Words & Stop Word Filtering\n",
        "\n",
        "#Dataset\n",
        "\n",
        "corpus = [\n",
        "    'Linux has been around since the mid-1990s.',\n",
        "    'Linux distributions include the Linux kernel.',\n",
        "    'Linux is one of the most prominent open-source software.'\n",
        "]\n",
        "\n",
        "corpus"
      ]
    },
    {
      "cell_type": "code",
      "execution_count": 2,
      "id": "4ce0e6de",
      "metadata": {
        "colab": {
          "base_uri": "https://localhost:8080/"
        },
        "id": "4ce0e6de",
        "outputId": "9331f86d-e8b8-4c4a-fa67-58929bc0afca"
      },
      "outputs": [
        {
          "output_type": "execute_result",
          "data": {
            "text/plain": [
              "matrix([[1, 1, 1, 0, 1, 0, 0, 0, 1, 1, 0, 0, 0, 0, 0, 1, 0, 0, 1],\n",
              "        [0, 0, 0, 1, 0, 1, 0, 1, 2, 0, 0, 0, 0, 0, 0, 0, 0, 0, 1],\n",
              "        [0, 0, 0, 0, 0, 0, 1, 0, 1, 0, 1, 1, 1, 1, 1, 0, 1, 1, 1]])"
            ]
          },
          "metadata": {},
          "execution_count": 2
        }
      ],
      "source": [
        "#Bag of Words model dengan CountVectorizer\n",
        "\n",
        "from sklearn.feature_extraction.text import CountVectorizer\n",
        "\n",
        "vectorizer = CountVectorizer()\n",
        "vectorized_X = vectorizer.fit_transform(corpus).todense()\n",
        "vectorized_X"
      ]
    },
    {
      "cell_type": "code",
      "execution_count": 3,
      "id": "ac1f8b47",
      "metadata": {
        "colab": {
          "base_uri": "https://localhost:8080/"
        },
        "id": "ac1f8b47",
        "outputId": "5922d25d-6b33-44a8-fc31-2b0d3ebaacf9"
      },
      "outputs": [
        {
          "output_type": "stream",
          "name": "stdout",
          "text": [
            "['1990s' 'around' 'been' 'distributions' 'has' 'include' 'is' 'kernel'\n",
            " 'linux' 'mid' 'most' 'of' 'one' 'open' 'prominent' 'since' 'software'\n",
            " 'source' 'the']\n"
          ]
        }
      ],
      "source": [
        "feature_names = vectorizer.get_feature_names_out()\n",
        "print(feature_names)"
      ]
    },
    {
      "cell_type": "code",
      "execution_count": 4,
      "id": "195a0365",
      "metadata": {
        "colab": {
          "base_uri": "https://localhost:8080/"
        },
        "id": "195a0365",
        "outputId": "387ee4d6-a6a5-4c4f-8345-58b598d74f0b"
      },
      "outputs": [
        {
          "output_type": "stream",
          "name": "stdout",
          "text": [
            "Jarak dokumen 1 dan 2: 3.1622776601683795\n",
            "Jarak dokumen 1 dan 3: 3.7416573867739413\n",
            "Jarak dokumen 2 dan 3: 3.4641016151377544\n"
          ]
        }
      ],
      "source": [
        "#Euclidean Distance untuk mengukur kedekatan/jarak antar dokumen (vector)\n",
        "\n",
        "import numpy as np\n",
        "from sklearn.metrics.pairwise import euclidean_distances\n",
        "\n",
        "for i in range(len(vectorized_X)):\n",
        "    for j in range(len(vectorized_X)):\n",
        "        if i < j:\n",
        "            vector_i = np.asarray(vectorized_X[i])\n",
        "            vector_j = np.asarray(vectorized_X[j])\n",
        "            jarak = euclidean_distances(vector_i, vector_j)\n",
        "            print(f'Jarak dokumen {i+1} dan {j+1}: {jarak[0][0]}')\n"
      ]
    },
    {
      "cell_type": "code",
      "execution_count": 5,
      "id": "1c4834f1",
      "metadata": {
        "colab": {
          "base_uri": "https://localhost:8080/"
        },
        "id": "1c4834f1",
        "outputId": "2ee830c4-d6ad-41f6-a845-26aa708836df"
      },
      "outputs": [
        {
          "output_type": "execute_result",
          "data": {
            "text/plain": [
              "['Linux has been around since the mid-1990s.',\n",
              " 'Linux distributions include the Linux kernel.',\n",
              " 'Linux is one of the most prominent open-source software.']"
            ]
          },
          "metadata": {},
          "execution_count": 5
        }
      ],
      "source": [
        "#Stop Word Filtering pada text\n",
        "\n",
        "#Dataset\n",
        "\n",
        "corpus"
      ]
    },
    {
      "cell_type": "code",
      "execution_count": 6,
      "id": "f6984139",
      "metadata": {
        "colab": {
          "base_uri": "https://localhost:8080/"
        },
        "id": "f6984139",
        "outputId": "48c2afff-d747-46ff-bb36-35d29f4f63d8"
      },
      "outputs": [
        {
          "output_type": "execute_result",
          "data": {
            "text/plain": [
              "matrix([[1, 0, 0, 0, 1, 1, 0, 0, 0, 0],\n",
              "        [0, 1, 1, 1, 2, 0, 0, 0, 0, 0],\n",
              "        [0, 0, 0, 0, 1, 0, 1, 1, 1, 1]])"
            ]
          },
          "metadata": {},
          "execution_count": 6
        }
      ],
      "source": [
        "#Stop Word Filtering dengan CountVectorizer\n",
        "\n",
        "from sklearn.feature_extraction.text import CountVectorizer\n",
        "\n",
        "vectorizer = CountVectorizer(stop_words='english')\n",
        "vectorized_X = vectorizer.fit_transform(corpus).todense()\n",
        "vectorized_X"
      ]
    },
    {
      "cell_type": "code",
      "execution_count": 7,
      "id": "e18950ea",
      "metadata": {
        "colab": {
          "base_uri": "https://localhost:8080/"
        },
        "id": "e18950ea",
        "outputId": "bd94a297-8804-4c67-d6e8-18916b44c420"
      },
      "outputs": [
        {
          "output_type": "stream",
          "name": "stdout",
          "text": [
            "['1990s' 'distributions' 'include' 'kernel' 'linux' 'mid' 'open'\n",
            " 'prominent' 'software' 'source']\n"
          ]
        }
      ],
      "source": [
        "feature_names = vectorizer.get_feature_names_out()\n",
        "print(feature_names)"
      ]
    }
  ],
  "metadata": {
    "kernelspec": {
      "display_name": "Python 3 (ipykernel)",
      "language": "python",
      "name": "python3"
    },
    "language_info": {
      "codemirror_mode": {
        "name": "ipython",
        "version": 3
      },
      "file_extension": ".py",
      "mimetype": "text/x-python",
      "name": "python",
      "nbconvert_exporter": "python",
      "pygments_lexer": "ipython3",
      "version": "3.9.7"
    },
    "colab": {
      "provenance": []
    }
  },
  "nbformat": 4,
  "nbformat_minor": 5
}