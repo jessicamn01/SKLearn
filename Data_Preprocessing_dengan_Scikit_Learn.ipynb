{
  "nbformat": 4,
  "nbformat_minor": 0,
  "metadata": {
    "colab": {
      "provenance": []
    },
    "kernelspec": {
      "name": "python3",
      "display_name": "Python 3"
    },
    "language_info": {
      "name": "python"
    }
  },
  "cells": [
    {
      "cell_type": "code",
      "execution_count": 1,
      "metadata": {
        "colab": {
          "base_uri": "https://localhost:8080/"
        },
        "id": "ONXHtu8TZzkN",
        "outputId": "a2b63fd7-0bbb-4fba-d27e-67d2417a6527"
      },
      "outputs": [
        {
          "output_type": "execute_result",
          "data": {
            "text/plain": [
              "array([[ 2.1, -1.9,  5.5],\n",
              "       [-1.5,  2.4,  3.5],\n",
              "       [ 0.5, -7.9,  5.6],\n",
              "       [ 5.9,  2.3, -5.8]])"
            ]
          },
          "metadata": {},
          "execution_count": 1
        }
      ],
      "source": [
        "#Data Preprocessing dengan Scikit-Learn\n",
        "\n",
        "#Sample Data\n",
        "\n",
        "import numpy as np\n",
        "\n",
        "from sklearn import preprocessing\n",
        "\n",
        "sample_data = np.array([[2.1, -1.9, 5.5],\n",
        "                       [-1.5, 2.4, 3.5],\n",
        "                       [0.5, -7.9, 5.6],\n",
        "                       [5.9, 2.3, -5.8]])\n",
        "\n",
        "sample_data"
      ]
    },
    {
      "cell_type": "code",
      "source": [
        "sample_data.shape"
      ],
      "metadata": {
        "colab": {
          "base_uri": "https://localhost:8080/"
        },
        "id": "3-7LH6JDZ3z6",
        "outputId": "adb2e28b-e62a-42d6-dd40-09354aee49fe"
      },
      "execution_count": 2,
      "outputs": [
        {
          "output_type": "execute_result",
          "data": {
            "text/plain": [
              "(4, 3)"
            ]
          },
          "metadata": {},
          "execution_count": 2
        }
      ]
    },
    {
      "cell_type": "code",
      "source": [
        "#Binarisation\n",
        "\n",
        "sample_data"
      ],
      "metadata": {
        "colab": {
          "base_uri": "https://localhost:8080/"
        },
        "id": "xanAM3TAZ39P",
        "outputId": "bc2733ca-f77d-4344-f6ac-d326c4435811"
      },
      "execution_count": 3,
      "outputs": [
        {
          "output_type": "execute_result",
          "data": {
            "text/plain": [
              "array([[ 2.1, -1.9,  5.5],\n",
              "       [-1.5,  2.4,  3.5],\n",
              "       [ 0.5, -7.9,  5.6],\n",
              "       [ 5.9,  2.3, -5.8]])"
            ]
          },
          "metadata": {},
          "execution_count": 3
        }
      ]
    },
    {
      "cell_type": "code",
      "source": [
        "preprocessor = preprocessing.Binarizer(threshold = 0.5)\n",
        "binarised_data = preprocessor.transform(sample_data)\n",
        "binarised_data"
      ],
      "metadata": {
        "colab": {
          "base_uri": "https://localhost:8080/"
        },
        "id": "kxcoN3RbZ4G5",
        "outputId": "6b2f5ead-cda6-4af4-ac00-d7180616e264"
      },
      "execution_count": 4,
      "outputs": [
        {
          "output_type": "execute_result",
          "data": {
            "text/plain": [
              "array([[1., 0., 1.],\n",
              "       [0., 1., 1.],\n",
              "       [0., 0., 1.],\n",
              "       [1., 1., 0.]])"
            ]
          },
          "metadata": {},
          "execution_count": 4
        }
      ]
    },
    {
      "cell_type": "code",
      "source": [
        "#Scaling\n",
        "\n",
        "sample_data"
      ],
      "metadata": {
        "colab": {
          "base_uri": "https://localhost:8080/"
        },
        "id": "f-BG16rVZ4Ng",
        "outputId": "68ee4ca1-b1df-46f3-f93a-033e23a9d732"
      },
      "execution_count": 5,
      "outputs": [
        {
          "output_type": "execute_result",
          "data": {
            "text/plain": [
              "array([[ 2.1, -1.9,  5.5],\n",
              "       [-1.5,  2.4,  3.5],\n",
              "       [ 0.5, -7.9,  5.6],\n",
              "       [ 5.9,  2.3, -5.8]])"
            ]
          },
          "metadata": {},
          "execution_count": 5
        }
      ]
    },
    {
      "cell_type": "code",
      "source": [
        "preprocessor = preprocessing.MinMaxScaler(feature_range = (0, 1))\n",
        "preprocessor.fit(sample_data)\n",
        "scaled_data = preprocessor.transform(sample_data)\n",
        "scaled_data"
      ],
      "metadata": {
        "colab": {
          "base_uri": "https://localhost:8080/"
        },
        "id": "-06-UbgBZ4W9",
        "outputId": "62dc9996-08b5-4c75-8f1e-f58314bb34dc"
      },
      "execution_count": 6,
      "outputs": [
        {
          "output_type": "execute_result",
          "data": {
            "text/plain": [
              "array([[0.48648649, 0.58252427, 0.99122807],\n",
              "       [0.        , 1.        , 0.81578947],\n",
              "       [0.27027027, 0.        , 1.        ],\n",
              "       [1.        , 0.99029126, 0.        ]])"
            ]
          },
          "metadata": {},
          "execution_count": 6
        }
      ]
    },
    {
      "cell_type": "code",
      "source": [
        "scaled_data = preprocessor.fit_transform(sample_data)\n",
        "scaled_data"
      ],
      "metadata": {
        "colab": {
          "base_uri": "https://localhost:8080/"
        },
        "id": "hzsvFi4TaFFr",
        "outputId": "514a8e10-585d-459b-85e3-db62bec7e553"
      },
      "execution_count": 7,
      "outputs": [
        {
          "output_type": "execute_result",
          "data": {
            "text/plain": [
              "array([[0.48648649, 0.58252427, 0.99122807],\n",
              "       [0.        , 1.        , 0.81578947],\n",
              "       [0.27027027, 0.        , 1.        ],\n",
              "       [1.        , 0.99029126, 0.        ]])"
            ]
          },
          "metadata": {},
          "execution_count": 7
        }
      ]
    },
    {
      "cell_type": "code",
      "source": [
        "#L1 Normalisation: Least Absolute Deviations\n",
        "\n",
        "sample_data"
      ],
      "metadata": {
        "colab": {
          "base_uri": "https://localhost:8080/"
        },
        "id": "f33ruK6laFKb",
        "outputId": "9740817e-a391-4f63-eed0-ad8476895df9"
      },
      "execution_count": 8,
      "outputs": [
        {
          "output_type": "execute_result",
          "data": {
            "text/plain": [
              "array([[ 2.1, -1.9,  5.5],\n",
              "       [-1.5,  2.4,  3.5],\n",
              "       [ 0.5, -7.9,  5.6],\n",
              "       [ 5.9,  2.3, -5.8]])"
            ]
          },
          "metadata": {},
          "execution_count": 8
        }
      ]
    },
    {
      "cell_type": "code",
      "source": [
        "l1_normalised_data = preprocessing.normalize(sample_data, norm='l1')\n",
        "l1_normalised_data"
      ],
      "metadata": {
        "colab": {
          "base_uri": "https://localhost:8080/"
        },
        "id": "sntFn3CraHiV",
        "outputId": "a90435da-4a6f-4ed3-e0f4-1dc365d32e54"
      },
      "execution_count": 9,
      "outputs": [
        {
          "output_type": "execute_result",
          "data": {
            "text/plain": [
              "array([[ 0.22105263, -0.2       ,  0.57894737],\n",
              "       [-0.2027027 ,  0.32432432,  0.47297297],\n",
              "       [ 0.03571429, -0.56428571,  0.4       ],\n",
              "       [ 0.42142857,  0.16428571, -0.41428571]])"
            ]
          },
          "metadata": {},
          "execution_count": 9
        }
      ]
    },
    {
      "cell_type": "code",
      "source": [
        "sample_data"
      ],
      "metadata": {
        "colab": {
          "base_uri": "https://localhost:8080/"
        },
        "id": "i4BUfjiDaHot",
        "outputId": "eaa7aaa5-846d-4315-8bbc-5602bbc44549"
      },
      "execution_count": 10,
      "outputs": [
        {
          "output_type": "execute_result",
          "data": {
            "text/plain": [
              "array([[ 2.1, -1.9,  5.5],\n",
              "       [-1.5,  2.4,  3.5],\n",
              "       [ 0.5, -7.9,  5.6],\n",
              "       [ 5.9,  2.3, -5.8]])"
            ]
          },
          "metadata": {},
          "execution_count": 10
        }
      ]
    },
    {
      "cell_type": "code",
      "source": [
        "l2_normalised_data = preprocessing.normalize(sample_data, norm='l2')\n",
        "l2_normalised_data"
      ],
      "metadata": {
        "colab": {
          "base_uri": "https://localhost:8080/"
        },
        "id": "KfHH2EVaaMg-",
        "outputId": "3de2f92c-d7df-40f0-d221-e2f28428daad"
      },
      "execution_count": 11,
      "outputs": [
        {
          "output_type": "execute_result",
          "data": {
            "text/plain": [
              "array([[ 0.33946114, -0.30713151,  0.88906489],\n",
              "       [-0.33325106,  0.53320169,  0.7775858 ],\n",
              "       [ 0.05156558, -0.81473612,  0.57753446],\n",
              "       [ 0.68706914,  0.26784051, -0.6754239 ]])"
            ]
          },
          "metadata": {},
          "execution_count": 11
        }
      ]
    }
  ]
}